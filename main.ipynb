{
 "cells": [
  {
   "cell_type": "markdown",
   "metadata": {},
   "source": [
    "#### some instructions:\n",
    "1. External functions must have their own files .py and then imported in this main notebook \n",
    "2. Upload notebook with cells already run before handing in the HW \n",
    "3. Add to readme.md the link to the notebook as well "
   ]
  }
 ],
 "metadata": {
  "language_info": {
   "name": "python"
  }
 },
 "nbformat": 4,
 "nbformat_minor": 2
}
